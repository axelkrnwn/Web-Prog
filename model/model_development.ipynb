{
 "cells": [
  {
   "cell_type": "markdown",
   "metadata": {},
   "source": [
    "reference : https://medium.com/@jiangan0808/retrieval-augmented-generation-rag-with-open-source-hugging-face-llms-using-langchain-bd618371be9d"
   ]
  },
  {
   "cell_type": "code",
   "execution_count": 113,
   "metadata": {},
   "outputs": [],
   "source": [
    "import os\n",
    "from urllib.request import urlretrieve\n",
    "import numpy as np\n",
    "from langchain_community.embeddings import HuggingFaceBgeEmbeddings\n",
    "from langchain_community.llms import HuggingFacePipeline\n",
    "from langchain_community.document_loaders import PyPDFLoader\n",
    "from langchain_community.document_loaders import PyPDFDirectoryLoader\n",
    "from langchain.text_splitter import RecursiveCharacterTextSplitter\n",
    "from langchain_community.vectorstores import FAISS\n",
    "from langchain.chains import RetrievalQA\n",
    "from langchain.prompts import PromptTemplate"
   ]
  },
  {
   "cell_type": "code",
   "execution_count": 114,
   "metadata": {},
   "outputs": [
    {
     "data": {
      "text/plain": [
       "Document(metadata={'source': 'PureUU\\\\UU Nomor 11 Tahun 2008.pdf', 'page': 0}, page_content='PRESIDEN \\nREPUBLIK INDONESIA \\n \\n \\n \\n \\nUNDANG-UNDANG REPUBLIK INDONESIA  \\nNOMOR 11 TAHUN 2008  \\n \\nTENTANG   \\nINFORMASI DAN TRANSAKSI ELEKTRONIK  \\n \\n \\n \\nDENGAN RAHMAT TUHAN YANG MAHA ESA  \\nPRESIDEN REPUBLIK INDONESIA,  \\n \\n \\nMenimbang :   a.  bahwa  pembangunan  nasional  adalah  suatu  proses  yang  \\nberkelanjutan   yang   harus   senantiasa   tanggap   terhadap  \\nberbagai dinamika yang terjadi di masyarakat;   \\nb. bahwa  globalisasi  informasi  telah  menempatkan  Indonesia')"
      ]
     },
     "execution_count": 114,
     "metadata": {},
     "output_type": "execute_result"
    }
   ],
   "source": [
    "loader = PyPDFDirectoryLoader(\"./PureUU/\")\n",
    "\n",
    "docs_before_split = loader.load()\n",
    "text_splitter = RecursiveCharacterTextSplitter(\n",
    "    chunk_size = 700,\n",
    "    chunk_overlap  = 50,\n",
    ")\n",
    "docs_after_split = text_splitter.split_documents(docs_before_split)\n",
    "\n",
    "docs_after_split[0]"
   ]
  },
  {
   "cell_type": "code",
   "execution_count": 115,
   "metadata": {},
   "outputs": [
    {
     "name": "stdout",
     "output_type": "stream",
     "text": [
      "Before split, there were 38 documents loaded, with average characters equal to 1925.\n",
      "After split, there were 131 documents (chunks), with average characters equal to 558 (average chunk length).\n"
     ]
    }
   ],
   "source": [
    "avg_doc_length = lambda docs: sum([len(doc.page_content) for doc in docs])//len(docs)\n",
    "avg_char_before_split = avg_doc_length(docs_before_split)\n",
    "avg_char_after_split = avg_doc_length(docs_after_split)\n",
    "\n",
    "print(f'Before split, there were {len(docs_before_split)} documents loaded, with average characters equal to {avg_char_before_split}.')\n",
    "print(f'After split, there were {len(docs_after_split)} documents (chunks), with average characters equal to {avg_char_after_split} (average chunk length).')"
   ]
  },
  {
   "cell_type": "code",
   "execution_count": 116,
   "metadata": {},
   "outputs": [
    {
     "name": "stderr",
     "output_type": "stream",
     "text": [
      "c:\\Users\\Frederick\\anaconda3\\envs\\EmbeddingLearning\\Lib\\site-packages\\transformers\\tokenization_utils_base.py:1601: FutureWarning: `clean_up_tokenization_spaces` was not set. It will be set to `True` by default. This behavior will be depracted in transformers v4.45, and will be then set to `False` by default. For more details check this issue: https://github.com/huggingface/transformers/issues/31884\n",
      "  warnings.warn(\n"
     ]
    }
   ],
   "source": [
    "huggingface_embeddings = HuggingFaceBgeEmbeddings(\n",
    "    model_name=\"sentence-transformers/all-MiniLM-l6-v2\", \n",
    "    model_kwargs={'device':'cpu'}, \n",
    "    encode_kwargs={'normalize_embeddings': True}\n",
    ")"
   ]
  },
  {
   "cell_type": "code",
   "execution_count": 117,
   "metadata": {},
   "outputs": [
    {
     "name": "stdout",
     "output_type": "stream",
     "text": [
      "Sample embedding of a document chunk:  [-4.49483283e-03  4.63943146e-02  2.39182543e-03 -6.82217255e-02\n",
      " -4.91762161e-02  5.14068408e-03 -4.39534575e-04 -5.95147547e-04\n",
      " -1.49304979e-02  4.00025994e-02  8.51267204e-02  2.69969329e-02\n",
      " -6.17414378e-02 -7.23876581e-02  4.85156663e-02  8.53422284e-03\n",
      " -4.06529289e-03 -1.67988818e-02 -3.73626165e-02 -7.28238001e-02\n",
      "  6.18899949e-02 -1.16680814e-02 -1.30743645e-02 -3.74527350e-02\n",
      " -2.46761478e-02 -1.95850916e-02  4.25968952e-02  5.12392353e-03\n",
      "  8.27544332e-02 -2.83982251e-02 -4.22499403e-02  4.41240929e-02\n",
      "  2.84396559e-02  3.78157049e-02 -7.57979229e-02  6.91364035e-02\n",
      " -4.14750203e-02  5.09713171e-03  6.79858848e-02  3.49299214e-03\n",
      "  4.01313417e-02 -7.01914951e-02 -3.67621928e-02 -1.29194036e-01\n",
      "  3.38713340e-02 -4.47076485e-02 -4.29368280e-02 -3.14693823e-02\n",
      " -2.70717889e-02 -3.88108082e-02 -1.17798708e-01  2.05702465e-02\n",
      " -3.38048525e-02 -4.33661975e-02  1.51255950e-02 -1.17782660e-01\n",
      " -6.12874608e-03  3.86152267e-02  1.26771023e-02 -4.83961664e-02\n",
      "  1.83520764e-02  4.20164466e-02 -6.78947121e-02 -2.85543706e-02\n",
      "  1.09792955e-01 -4.25772294e-02 -2.18669772e-02  3.79495546e-02\n",
      " -2.07618121e-02 -7.93391652e-03 -2.76872739e-02  5.94299138e-02\n",
      "  2.60588005e-02  1.87476706e-02 -1.71194777e-01 -5.38009554e-02\n",
      " -1.75587484e-03  9.60745960e-02  2.25454029e-02 -2.83856485e-02\n",
      "  4.47058789e-02  6.70832023e-02 -1.17484073e-03 -3.26546282e-02\n",
      " -4.88922559e-02  3.36264289e-04 -5.87083139e-02 -3.25677730e-02\n",
      " -3.28065977e-02 -1.00074848e-02  4.76358607e-02 -3.02090086e-02\n",
      "  7.47055262e-02 -3.46482219e-03 -3.91080752e-02  2.59055048e-02\n",
      " -1.08355381e-01 -3.28346081e-02  3.49617079e-02  2.12017056e-02\n",
      "  2.59759407e-02  2.93374155e-02 -2.95573124e-03 -2.26298161e-02\n",
      " -1.41230121e-01 -1.84564590e-02 -2.71574818e-02 -4.84550325e-03\n",
      "  1.09967537e-01  5.94678633e-02 -1.17446952e-01 -3.88419181e-02\n",
      " -6.40652403e-02 -9.91103500e-02  1.61773358e-02 -5.74892052e-02\n",
      " -5.18426411e-02  7.61971772e-02 -1.42432889e-02 -7.05490336e-02\n",
      " -1.64073892e-02 -8.41406435e-02 -8.55795294e-03 -4.84338328e-02\n",
      "  6.62174728e-03 -4.15444374e-02  1.16415592e-02  2.29760936e-32\n",
      "  5.63491024e-02 -1.68456528e-02  6.58527240e-02  3.59884836e-02\n",
      " -2.42424048e-02  9.37709305e-03 -6.92268983e-02 -9.68413949e-02\n",
      " -1.46605261e-02  2.26297956e-02 -1.17268311e-02  2.70140953e-02\n",
      " -3.53091210e-03 -3.19148302e-02  8.32318608e-03 -8.62751715e-03\n",
      " -2.94897463e-02  9.34829563e-03 -3.08663584e-02 -7.90181942e-03\n",
      "  4.50458638e-02  2.55713146e-02  2.10807342e-02 -2.89794169e-02\n",
      "  1.16820887e-01 -3.40030529e-02 -4.22593858e-03 -4.98409085e-02\n",
      " -4.52590771e-02  4.97272015e-02  2.35341527e-02  7.86655489e-03\n",
      " -5.09238094e-02 -9.47952969e-04 -2.69025732e-02  3.11259646e-03\n",
      "  9.97588318e-03 -6.13663644e-02 -2.22692601e-02 -5.36709838e-02\n",
      "  5.26154637e-02 -1.55835217e-02  8.46709237e-02  4.34811153e-02\n",
      "  6.97808266e-02  6.85679913e-03  4.10534861e-03 -2.22306587e-02\n",
      "  8.86549503e-02  1.21351913e-01 -6.11436851e-02  4.99442108e-02\n",
      " -2.32244600e-02 -4.67091165e-02  9.30525512e-02 -1.92010365e-02\n",
      " -1.55610135e-02  7.65900537e-02  3.24738473e-02 -7.70399068e-03\n",
      " -3.64063191e-04 -4.16617505e-02 -3.83135043e-02  1.87752116e-02\n",
      " -6.40680492e-02 -3.37578319e-02 -3.20560597e-02 -1.61864944e-02\n",
      "  7.76650533e-02 -4.46292982e-02 -4.57563624e-03 -1.62981674e-02\n",
      "  2.53785122e-02  5.27194217e-02 -1.03115402e-01 -3.40371369e-03\n",
      " -4.58026677e-02  1.56414288e-03  6.34597987e-02  3.10285427e-02\n",
      " -1.60316415e-02  8.65214597e-03  5.52452020e-02  3.39404657e-03\n",
      "  6.45133778e-02  5.83275743e-02  1.38249220e-02 -5.72871938e-02\n",
      "  9.17081386e-02  7.30682313e-02 -1.76627282e-02  7.72100314e-02\n",
      " -4.87503111e-02  3.30712646e-02  1.51316626e-02 -2.37640362e-32\n",
      "  7.80203054e-03  2.53335685e-02 -1.23027280e-01 -5.28454594e-02\n",
      "  3.93337272e-02  7.05425348e-03  4.03492488e-02 -2.04367712e-02\n",
      " -2.66142786e-02 -4.12174724e-02 -5.60203604e-02 -7.03651756e-02\n",
      "  8.36054012e-02  5.16363718e-02 -4.96100225e-02  4.82915752e-02\n",
      "  1.10700943e-01 -6.64497074e-03 -4.57686745e-02 -3.43138948e-02\n",
      "  8.74499418e-03  1.07038699e-01 -6.44446313e-02  7.71809742e-02\n",
      "  2.18312498e-02 -4.13625389e-02  5.57133928e-02 -4.85127568e-02\n",
      " -4.92350524e-03 -1.34100318e-02  2.66643930e-02 -3.95086557e-02\n",
      " -1.06448248e-01  1.47783473e-01 -8.17681178e-02 -1.14038959e-01\n",
      "  6.95642903e-02 -1.29142040e-02 -1.79678090e-02  6.41241148e-02\n",
      "  7.92716965e-02  2.99328156e-02  6.55488065e-03 -4.58861217e-02\n",
      " -1.52643144e-01 -5.56188338e-02 -5.80186397e-02  4.00762148e-02\n",
      " -2.49858592e-02 -8.68907198e-02  4.67573814e-02  2.68744472e-02\n",
      "  2.08351985e-02 -4.16526012e-02  1.64201409e-02  6.05712794e-02\n",
      "  1.26993526e-02  6.12633582e-03  2.79521812e-02  3.50345038e-02\n",
      " -1.57050062e-02  5.67838084e-03  5.72360819e-04  1.20532289e-02\n",
      "  4.77382690e-02  1.39616523e-02  6.02292344e-02  5.88280670e-02\n",
      "  8.53017867e-02 -7.15070069e-02  1.59318708e-02 -1.37674630e-01\n",
      " -1.32730052e-01 -3.35179418e-02  3.24105769e-02  4.91792187e-02\n",
      " -8.37858468e-02  2.22480092e-02 -2.89386529e-02  1.89775061e-02\n",
      "  3.07322573e-02 -1.48325814e-02 -2.97814980e-02 -4.02578712e-02\n",
      " -2.27146968e-02  3.14480886e-02  3.66470106e-02 -6.03489168e-02\n",
      "  1.60892028e-02 -2.81772353e-02 -3.00149694e-02 -4.04918827e-02\n",
      " -1.57639980e-02  5.10957949e-02  2.03476418e-02 -6.62283028e-08\n",
      " -5.25232358e-03 -7.06540123e-02  9.52899549e-03  4.87082964e-03\n",
      " -8.27055611e-03 -5.56317484e-03  4.53367382e-02 -1.47395115e-02\n",
      " -5.22422381e-02  2.33321749e-02  2.09010895e-02 -1.10378964e-02\n",
      " -9.80861858e-03  1.57750342e-02  7.50589743e-02 -2.61303298e-02\n",
      "  2.41740122e-02  1.42717594e-02 -4.73015122e-02 -8.83980766e-02\n",
      "  4.98416387e-02 -2.24815309e-02 -4.00403775e-02  3.54173617e-03\n",
      " -5.12186962e-04  4.97876704e-02 -1.99048445e-02  8.36280063e-02\n",
      " -1.70073286e-02  2.62863729e-02 -6.98822066e-02  4.42883745e-02\n",
      " -8.95283744e-02 -1.03848102e-02  1.42522240e-02  3.55650932e-02\n",
      "  2.30955165e-02 -2.63044331e-02 -1.71008147e-02 -1.24470107e-02\n",
      "  1.84105523e-02 -3.52429114e-02  8.03473070e-02  4.75697480e-02\n",
      "  1.33972336e-02  4.13789190e-02  2.69177575e-02  4.16099317e-02\n",
      "  1.10126019e-03 -1.20457582e-01 -9.99772027e-02  2.42954604e-02\n",
      "  3.19271497e-02  9.57010128e-03 -4.13521379e-02  2.81078462e-02\n",
      "  1.74704799e-03  7.91463330e-02  1.46068139e-02 -4.13912572e-02\n",
      "  1.09828182e-01  4.83095758e-02 -3.38282995e-02 -2.79637016e-02]\n",
      "Size of the embedding:  (384,)\n"
     ]
    }
   ],
   "source": [
    "sample_embedding = np.array(huggingface_embeddings.embed_query(docs_after_split[0].page_content))\n",
    "print(\"Sample embedding of a document chunk: \", sample_embedding)\n",
    "print(\"Size of the embedding: \", sample_embedding.shape)"
   ]
  },
  {
   "cell_type": "code",
   "execution_count": 118,
   "metadata": {},
   "outputs": [],
   "source": [
    "vectorstore = FAISS.from_documents(docs_after_split, huggingface_embeddings)"
   ]
  },
  {
   "cell_type": "code",
   "execution_count": 119,
   "metadata": {},
   "outputs": [
    {
     "name": "stdout",
     "output_type": "stream",
     "text": [
      "There are 4 documents retrieved which are relevant to the query. Display the first one:\n",
      "\n",
      "(7) Penyidik Pegawai Negeri Sipil sebagaimana dimaksud pada  \n",
      "ayat (1) berkoordinasi dengan Penyidik Pejabat Polisi Negara  Republik      Indonesia      memberitahukan      dimulainya  penyidikan dan menyampaikan hasilnya kepada penuntut  \n",
      "umum.  \n",
      " \n",
      "(8) D a l a m    r a n g k a    m e n g u n g k a p    t i n d a k    p i d a n a    I n f o r m a s i   \n",
      "E l e k t r o n i k    d a n    T r a n s a k s i    E l e k t r o n i k ,    p e n y i d i k    d a p a t   berkerja sama dengan penyidik negara lain untuk berbagi  informasi dan alat bukti.  \n",
      " \n",
      " \n",
      " \n",
      "Pasal 44  \n",
      " \n",
      "Alat bukti penyidikan, penuntutan dan pemeriksaan di sidang  pengadilan   menurut   ketentuan   Undang-Undang   ini   adalah\n"
     ]
    }
   ],
   "source": [
    "query = \"\"\"Alat bukti penyidikan, penuntutan dan pemeriksaan di sidang pengadilan menurut ketentuan Undang-Undang ini adalah \"\"\"  \n",
    "relevant_documents = vectorstore.similarity_search(query)\n",
    "print(f'There are {len(relevant_documents)} documents retrieved which are relevant to the query. Display the first one:\\n')\n",
    "print(relevant_documents[0].page_content)"
   ]
  },
  {
   "cell_type": "code",
   "execution_count": 120,
   "metadata": {},
   "outputs": [],
   "source": [
    "retriever = vectorstore.as_retriever(search_type=\"similarity\", search_kwargs={\"k\": 3})"
   ]
  },
  {
   "cell_type": "code",
   "execution_count": 121,
   "metadata": {},
   "outputs": [],
   "source": [
    "# Load model directly\n",
    "from transformers import AutoTokenizer, AutoModelForSeq2SeqLM\n",
    "\n",
    "tokenizer = AutoTokenizer.from_pretrained(\"indonlp/cendol-mt5-small-chat\")\n",
    "model = AutoModelForSeq2SeqLM.from_pretrained(\"indonlp/cendol-mt5-small-chat\")"
   ]
  },
  {
   "cell_type": "code",
   "execution_count": 134,
   "metadata": {},
   "outputs": [
    {
     "name": "stderr",
     "output_type": "stream",
     "text": [
      "Hardware accelerator e.g. GPU is available in the environment, but no `device` argument is passed to the `Pipeline` object. Model will be on CPU.\n"
     ]
    },
    {
     "data": {
      "text/plain": [
       "'Alat bukti penyidikan, penuntutan dan pemeriksaan di sidang pengadilan menurut ketentuan Undang-Undang ini adalah sarana penyidikan, penuntutan dan pemeriksaan di sidang pengadilan menurut ketentuan Undang-Undang Nomor 1 Tahun 2009 tentang Penyidikan, Penntutan dan pemeriksaan di sidang pengadilan menurut ketentuan Undang-Undang ini adalah sarana penyidikan, penuntutan dan pemeriksaan di sidang pengadilan menurut ketentuan Undang-Undang Nomor 1 Tahun 2009 tentang Penyidikan, Penntutan dan pemeriksaan di sidang pengadilan menurut ketentuan Undang-Undang Nomor 1 Tahun 2009 tentang Penyidikan, Penntutan dan pemeriksaan di sidang pengadilan menurut ketentuan Undang-Undang Nomor 1 Tahun 2009 tentang Penyidikan, Penntutan dan pemeriksaan di sidang pengadilan menurut ketentuan Undang-Undang Nomor 1 Tahun 2009 tentang Penyidikan, Penntutan dan pemeriksaan di sidang pengadilan menurut ketentuan Undang-Undang Nomor 1 Tahun 2009 tentang Penyidikan, Pen'"
      ]
     },
     "execution_count": 134,
     "metadata": {},
     "output_type": "execute_result"
    }
   ],
   "source": [
    "from transformers import pipeline\n",
    "\n",
    "pipe = pipeline(\"text2text-generation\", model=\"indonlp/cendol-mt5-small-chat\", max_length=1000)\n",
    "\n",
    "from langchain.llms import HuggingFacePipeline\n",
    "llm = HuggingFacePipeline(pipeline=pipe)\n",
    "llm.invoke(query)"
   ]
  },
  {
   "cell_type": "code",
   "execution_count": 135,
   "metadata": {},
   "outputs": [],
   "source": [
    "prompt_template = \"\"\"\n",
    "Gunakan potongan konteks berikut untuk menjawab pertanyaan di akhir. Ikuti aturan berikut:\n",
    "1. Jika Anda tidak tahu jawabannya, jangan mencoba membuat jawaban. Cukup katakan \"Saya tidak bisa menemukan jawaban akhir, tetapi Anda dapat memeriksa tautan berikut\".\n",
    "2. Jika Anda menemukan jawabannya, tuliskan dalam kalimat yang ringkas maksimal lima kalimat.\n",
    "\n",
    "{context}\n",
    "\n",
    "Pertanyaan: {question}\n",
    "\n",
    "Jawaban yang membantu:\n",
    "\"\"\"\n",
    "\n",
    "PROMPT = PromptTemplate(\n",
    " template=prompt_template, input_variables=[\"context\", \"question\"]\n",
    ")"
   ]
  },
  {
   "cell_type": "code",
   "execution_count": 136,
   "metadata": {},
   "outputs": [],
   "source": [
    "retrievalQA = RetrievalQA.from_chain_type(\n",
    "    llm=llm,\n",
    "    chain_type=\"stuff\",\n",
    "    retriever=retriever,\n",
    "    return_source_documents=True,\n",
    "    chain_type_kwargs={\"prompt\": PROMPT}\n",
    ")"
   ]
  },
  {
   "cell_type": "code",
   "execution_count": 140,
   "metadata": {},
   "outputs": [
    {
     "name": "stdout",
     "output_type": "stream",
     "text": [
      "Sistem elektronik\n"
     ]
    }
   ],
   "source": [
    "result = retrievalQA.invoke({\"query\": \"Apa yang dimaksud sistem elektronik?\"})\n",
    "print(result['result'])"
   ]
  }
 ],
 "metadata": {
  "kernelspec": {
   "display_name": "EmbeddingLearning",
   "language": "python",
   "name": "python3"
  },
  "language_info": {
   "codemirror_mode": {
    "name": "ipython",
    "version": 3
   },
   "file_extension": ".py",
   "mimetype": "text/x-python",
   "name": "python",
   "nbconvert_exporter": "python",
   "pygments_lexer": "ipython3",
   "version": "3.12.5"
  }
 },
 "nbformat": 4,
 "nbformat_minor": 2
}
